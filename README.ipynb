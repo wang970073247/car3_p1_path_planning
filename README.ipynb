{
 "cells": [
  {
   "cell_type": "markdown",
   "metadata": {},
   "source": [
    "# Path Planning for the Highway Car"
   ]
  },
  {
   "cell_type": "markdown",
   "metadata": {},
   "source": [
    "In this project, the goal is to design a path planner that is able to create smooth, safe paths for the car to follow along a 3 lane highway with traffic."
   ]
  },
  {
   "cell_type": "markdown",
   "metadata": {},
   "source": [
    "[image1]: ./img/1.png\n",
    "[image2]: ./img/2.png\n",
    "[image3]: ./img/3.png\n",
    "![alt text][image1]"
   ]
  },
  {
   "cell_type": "markdown",
   "metadata": {},
   "source": [
    "## 1.Files"
   ]
  },
  {
   "cell_type": "markdown",
   "metadata": {},
   "source": [
    "* main.cpp: The file which contains a path planner which generates way points for the car running on the highway.\n",
    "* car_video: The file named \"car_video\" is a piece of video shows the result of the path planner."
   ]
  },
  {
   "cell_type": "markdown",
   "metadata": {},
   "source": [
    "# [Rubic](https://review.udacity.com/#!/rubrics/1020/view) points"
   ]
  },
  {
   "cell_type": "markdown",
   "metadata": {},
   "source": [
    "# The code consist of foue parts:\n",
    "\n",
    "### Define a Car Structure [line 164 to line 172](./src/main.cpp)\n",
    "This part defines a structure to store the car's state, and in the following code, i define a initialize function to reset the car's state in case the car changes lanes or other cars appear.\n",
    "\n",
    "### Prediction [line 276 to line 311](./src/main.cpp)\n",
    "This part of the code deal with the telemetry and sensor fusion data. It intents to reason about the environment. In the case, we want to know three aspects of it:\n",
    "\n",
    "- Is there a car in front of us blocking the traffic.\n",
    "- Is there a car to the right of us making a lane change not safe.\n",
    "- Is there a car to the left of us making a lane change not safe.\n",
    "\n",
    "These questions are answered by calculating the lane each other car is and the position it will be at the end of the last plan trajectory. A car is considered \"dangerous\" when its distance to our car is less than 30 meters in front or behind us.\n",
    "\n",
    "### Behavior [line 313 to line 336](./src/main.cpp)\n",
    "This part decides what to do:\n",
    "  - If we have a car in front of us, do we change lanes?\n",
    "  - Do we speed up or slow down?\n",
    "\n",
    "Based on the prediction of the situation we are in, this code increases the speed, decrease speed, or make a lane change when it is safe. Instead of increasing the speed at this part of the code, a `speed_diff` is created to be used for speed changes when generating the trajectory in the last part of the code. This approach makes the car more responsive acting faster to changing situations like a car in front of it trying to apply breaks to cause a collision.\n",
    "\n",
    "### Trajectory [line 338 to line 437](./src/main.cpp#L313)\n",
    "This code does the calculation of the trajectory based on the speed and lane output from the behavior, car coordinates and past path points.\n",
    "\n",
    "First, the last two points of the previous trajectory (or the car position if there are no previous trajectory, lines 345 to 370) are used in conjunction three points at a far distance (lines 372 to 375) to initialize the spline calculation (line 394 and 396). To make the work less complicated to the spline calculation based on those points, the coordinates are transformed (shift and rotation) to local car coordinates (lines 385 to 392).\n",
    "\n",
    "In order to ensure more continuity on the trajectory (in addition to adding the last two point of the pass trajectory to the spline adjustment), the pass trajectory points are copied to the new trajectory (lines 398 to 404). The rest of the points are calculated by evaluating the spline and transforming the output coordinates to global coordinates (lines 413 to 437). "
   ]
  },
  {
   "cell_type": "code",
   "execution_count": null,
   "metadata": {},
   "outputs": [],
   "source": []
  }
 ],
 "metadata": {
  "kernelspec": {
   "display_name": "Python 3",
   "language": "python",
   "name": "python3"
  },
  "language_info": {
   "codemirror_mode": {
    "name": "ipython",
    "version": 3
   },
   "file_extension": ".py",
   "mimetype": "text/x-python",
   "name": "python",
   "nbconvert_exporter": "python",
   "pygments_lexer": "ipython3",
   "version": "3.6.5"
  }
 },
 "nbformat": 4,
 "nbformat_minor": 2
}
